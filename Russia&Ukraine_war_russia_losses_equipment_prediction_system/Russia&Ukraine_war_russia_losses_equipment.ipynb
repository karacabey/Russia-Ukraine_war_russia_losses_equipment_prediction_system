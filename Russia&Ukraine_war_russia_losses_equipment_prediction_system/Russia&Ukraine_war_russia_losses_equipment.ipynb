{
  "nbformat": 4,
  "nbformat_minor": 0,
  "metadata": {
    "colab": {
      "name": "Russia&Ukraine_war_russia_losses_equipment.ipynb",
      "provenance": [],
      "collapsed_sections": []
    },
    "kernelspec": {
      "name": "python3",
      "display_name": "Python 3"
    },
    "language_info": {
      "name": "python"
    }
  },
  "cells": [
    {
      "cell_type": "markdown",
      "source": [
        "import libraries"
      ],
      "metadata": {
        "id": "GfkeXysqmNoE"
      }
    },
    {
      "cell_type": "code",
      "execution_count": 47,
      "metadata": {
        "id": "qafVs36fT7YB"
      },
      "outputs": [],
      "source": [
        "import pandas as pd\n",
        "import numpy as np\n",
        "from xgboost import XGBRegressor\n",
        "from sklearn.model_selection import train_test_split\n",
        "from sklearn.linear_model import LinearRegression\n",
        "from sklearn.preprocessing import StandardScaler\n",
        "from sklearn.metrics import confusion_matrix, mean_absolute_error, r2_score"
      ]
    },
    {
      "cell_type": "markdown",
      "source": [
        "import dataset on workspace"
      ],
      "metadata": {
        "id": "r-GeZVuhmVv6"
      }
    },
    {
      "cell_type": "code",
      "source": [
        "df = pd.read_csv(\"/content/russia_losses_equipment.csv\")"
      ],
      "metadata": {
        "id": "SpAo7hVeU9K-"
      },
      "execution_count": 2,
      "outputs": []
    },
    {
      "cell_type": "code",
      "source": [
        "df.shape"
      ],
      "metadata": {
        "colab": {
          "base_uri": "https://localhost:8080/"
        },
        "id": "C72xLoyOVCHY",
        "outputId": "41d3fe7b-5e11-4606-933d-1254db0a650d"
      },
      "execution_count": 3,
      "outputs": [
        {
          "output_type": "execute_result",
          "data": {
            "text/plain": [
              "(59, 15)"
            ]
          },
          "metadata": {},
          "execution_count": 3
        }
      ]
    },
    {
      "cell_type": "code",
      "source": [
        "df.head()"
      ],
      "metadata": {
        "colab": {
          "base_uri": "https://localhost:8080/",
          "height": 354
        },
        "id": "BP4TVnooVC-K",
        "outputId": "ff6acfe3-e61d-4c3e-eee6-f219b2cb04b5"
      },
      "execution_count": 4,
      "outputs": [
        {
          "output_type": "execute_result",
          "data": {
            "text/plain": [
              "         date  day  aircraft  helicopter  tank  APC  field artillery  MRL  \\\n",
              "0  2022-02-25    2        10           7    80  516               49    4   \n",
              "1  2022-02-26    3        27          26   146  706               49    4   \n",
              "2  2022-02-27    4        27          26   150  706               50    4   \n",
              "3  2022-02-28    5        29          29   150  816               74   21   \n",
              "4  2022-03-01    6        29          29   198  846               77   24   \n",
              "\n",
              "   military auto  fuel tank  drone  naval ship  anti-aircraft warfare  \\\n",
              "0            100         60      0           2                      0   \n",
              "1            130         60      2           2                      0   \n",
              "2            130         60      2           2                      0   \n",
              "3            291         60      3           2                      5   \n",
              "4            305         60      3           2                      7   \n",
              "\n",
              "   special equipment  mobile SRBM system  \n",
              "0                NaN                 NaN  \n",
              "1                NaN                 NaN  \n",
              "2                NaN                 NaN  \n",
              "3                NaN                 NaN  \n",
              "4                NaN                 NaN  "
            ],
            "text/html": [
              "\n",
              "  <div id=\"df-7323ed79-98d4-49f5-8dd5-3ee103a4b610\">\n",
              "    <div class=\"colab-df-container\">\n",
              "      <div>\n",
              "<style scoped>\n",
              "    .dataframe tbody tr th:only-of-type {\n",
              "        vertical-align: middle;\n",
              "    }\n",
              "\n",
              "    .dataframe tbody tr th {\n",
              "        vertical-align: top;\n",
              "    }\n",
              "\n",
              "    .dataframe thead th {\n",
              "        text-align: right;\n",
              "    }\n",
              "</style>\n",
              "<table border=\"1\" class=\"dataframe\">\n",
              "  <thead>\n",
              "    <tr style=\"text-align: right;\">\n",
              "      <th></th>\n",
              "      <th>date</th>\n",
              "      <th>day</th>\n",
              "      <th>aircraft</th>\n",
              "      <th>helicopter</th>\n",
              "      <th>tank</th>\n",
              "      <th>APC</th>\n",
              "      <th>field artillery</th>\n",
              "      <th>MRL</th>\n",
              "      <th>military auto</th>\n",
              "      <th>fuel tank</th>\n",
              "      <th>drone</th>\n",
              "      <th>naval ship</th>\n",
              "      <th>anti-aircraft warfare</th>\n",
              "      <th>special equipment</th>\n",
              "      <th>mobile SRBM system</th>\n",
              "    </tr>\n",
              "  </thead>\n",
              "  <tbody>\n",
              "    <tr>\n",
              "      <th>0</th>\n",
              "      <td>2022-02-25</td>\n",
              "      <td>2</td>\n",
              "      <td>10</td>\n",
              "      <td>7</td>\n",
              "      <td>80</td>\n",
              "      <td>516</td>\n",
              "      <td>49</td>\n",
              "      <td>4</td>\n",
              "      <td>100</td>\n",
              "      <td>60</td>\n",
              "      <td>0</td>\n",
              "      <td>2</td>\n",
              "      <td>0</td>\n",
              "      <td>NaN</td>\n",
              "      <td>NaN</td>\n",
              "    </tr>\n",
              "    <tr>\n",
              "      <th>1</th>\n",
              "      <td>2022-02-26</td>\n",
              "      <td>3</td>\n",
              "      <td>27</td>\n",
              "      <td>26</td>\n",
              "      <td>146</td>\n",
              "      <td>706</td>\n",
              "      <td>49</td>\n",
              "      <td>4</td>\n",
              "      <td>130</td>\n",
              "      <td>60</td>\n",
              "      <td>2</td>\n",
              "      <td>2</td>\n",
              "      <td>0</td>\n",
              "      <td>NaN</td>\n",
              "      <td>NaN</td>\n",
              "    </tr>\n",
              "    <tr>\n",
              "      <th>2</th>\n",
              "      <td>2022-02-27</td>\n",
              "      <td>4</td>\n",
              "      <td>27</td>\n",
              "      <td>26</td>\n",
              "      <td>150</td>\n",
              "      <td>706</td>\n",
              "      <td>50</td>\n",
              "      <td>4</td>\n",
              "      <td>130</td>\n",
              "      <td>60</td>\n",
              "      <td>2</td>\n",
              "      <td>2</td>\n",
              "      <td>0</td>\n",
              "      <td>NaN</td>\n",
              "      <td>NaN</td>\n",
              "    </tr>\n",
              "    <tr>\n",
              "      <th>3</th>\n",
              "      <td>2022-02-28</td>\n",
              "      <td>5</td>\n",
              "      <td>29</td>\n",
              "      <td>29</td>\n",
              "      <td>150</td>\n",
              "      <td>816</td>\n",
              "      <td>74</td>\n",
              "      <td>21</td>\n",
              "      <td>291</td>\n",
              "      <td>60</td>\n",
              "      <td>3</td>\n",
              "      <td>2</td>\n",
              "      <td>5</td>\n",
              "      <td>NaN</td>\n",
              "      <td>NaN</td>\n",
              "    </tr>\n",
              "    <tr>\n",
              "      <th>4</th>\n",
              "      <td>2022-03-01</td>\n",
              "      <td>6</td>\n",
              "      <td>29</td>\n",
              "      <td>29</td>\n",
              "      <td>198</td>\n",
              "      <td>846</td>\n",
              "      <td>77</td>\n",
              "      <td>24</td>\n",
              "      <td>305</td>\n",
              "      <td>60</td>\n",
              "      <td>3</td>\n",
              "      <td>2</td>\n",
              "      <td>7</td>\n",
              "      <td>NaN</td>\n",
              "      <td>NaN</td>\n",
              "    </tr>\n",
              "  </tbody>\n",
              "</table>\n",
              "</div>\n",
              "      <button class=\"colab-df-convert\" onclick=\"convertToInteractive('df-7323ed79-98d4-49f5-8dd5-3ee103a4b610')\"\n",
              "              title=\"Convert this dataframe to an interactive table.\"\n",
              "              style=\"display:none;\">\n",
              "        \n",
              "  <svg xmlns=\"http://www.w3.org/2000/svg\" height=\"24px\"viewBox=\"0 0 24 24\"\n",
              "       width=\"24px\">\n",
              "    <path d=\"M0 0h24v24H0V0z\" fill=\"none\"/>\n",
              "    <path d=\"M18.56 5.44l.94 2.06.94-2.06 2.06-.94-2.06-.94-.94-2.06-.94 2.06-2.06.94zm-11 1L8.5 8.5l.94-2.06 2.06-.94-2.06-.94L8.5 2.5l-.94 2.06-2.06.94zm10 10l.94 2.06.94-2.06 2.06-.94-2.06-.94-.94-2.06-.94 2.06-2.06.94z\"/><path d=\"M17.41 7.96l-1.37-1.37c-.4-.4-.92-.59-1.43-.59-.52 0-1.04.2-1.43.59L10.3 9.45l-7.72 7.72c-.78.78-.78 2.05 0 2.83L4 21.41c.39.39.9.59 1.41.59.51 0 1.02-.2 1.41-.59l7.78-7.78 2.81-2.81c.8-.78.8-2.07 0-2.86zM5.41 20L4 18.59l7.72-7.72 1.47 1.35L5.41 20z\"/>\n",
              "  </svg>\n",
              "      </button>\n",
              "      \n",
              "  <style>\n",
              "    .colab-df-container {\n",
              "      display:flex;\n",
              "      flex-wrap:wrap;\n",
              "      gap: 12px;\n",
              "    }\n",
              "\n",
              "    .colab-df-convert {\n",
              "      background-color: #E8F0FE;\n",
              "      border: none;\n",
              "      border-radius: 50%;\n",
              "      cursor: pointer;\n",
              "      display: none;\n",
              "      fill: #1967D2;\n",
              "      height: 32px;\n",
              "      padding: 0 0 0 0;\n",
              "      width: 32px;\n",
              "    }\n",
              "\n",
              "    .colab-df-convert:hover {\n",
              "      background-color: #E2EBFA;\n",
              "      box-shadow: 0px 1px 2px rgba(60, 64, 67, 0.3), 0px 1px 3px 1px rgba(60, 64, 67, 0.15);\n",
              "      fill: #174EA6;\n",
              "    }\n",
              "\n",
              "    [theme=dark] .colab-df-convert {\n",
              "      background-color: #3B4455;\n",
              "      fill: #D2E3FC;\n",
              "    }\n",
              "\n",
              "    [theme=dark] .colab-df-convert:hover {\n",
              "      background-color: #434B5C;\n",
              "      box-shadow: 0px 1px 3px 1px rgba(0, 0, 0, 0.15);\n",
              "      filter: drop-shadow(0px 1px 2px rgba(0, 0, 0, 0.3));\n",
              "      fill: #FFFFFF;\n",
              "    }\n",
              "  </style>\n",
              "\n",
              "      <script>\n",
              "        const buttonEl =\n",
              "          document.querySelector('#df-7323ed79-98d4-49f5-8dd5-3ee103a4b610 button.colab-df-convert');\n",
              "        buttonEl.style.display =\n",
              "          google.colab.kernel.accessAllowed ? 'block' : 'none';\n",
              "\n",
              "        async function convertToInteractive(key) {\n",
              "          const element = document.querySelector('#df-7323ed79-98d4-49f5-8dd5-3ee103a4b610');\n",
              "          const dataTable =\n",
              "            await google.colab.kernel.invokeFunction('convertToInteractive',\n",
              "                                                     [key], {});\n",
              "          if (!dataTable) return;\n",
              "\n",
              "          const docLinkHtml = 'Like what you see? Visit the ' +\n",
              "            '<a target=\"_blank\" href=https://colab.research.google.com/notebooks/data_table.ipynb>data table notebook</a>'\n",
              "            + ' to learn more about interactive tables.';\n",
              "          element.innerHTML = '';\n",
              "          dataTable['output_type'] = 'display_data';\n",
              "          await google.colab.output.renderOutput(dataTable, element);\n",
              "          const docLink = document.createElement('div');\n",
              "          docLink.innerHTML = docLinkHtml;\n",
              "          element.appendChild(docLink);\n",
              "        }\n",
              "      </script>\n",
              "    </div>\n",
              "  </div>\n",
              "  "
            ]
          },
          "metadata": {},
          "execution_count": 4
        }
      ]
    },
    {
      "cell_type": "code",
      "source": [
        "df.drop(columns=[\"special equipment\",\"mobile SRBM system\",\"date\"],axis=1,inplace=True)"
      ],
      "metadata": {
        "id": "aIGT5RtNVEug"
      },
      "execution_count": 5,
      "outputs": []
    },
    {
      "cell_type": "code",
      "source": [
        "df.head()"
      ],
      "metadata": {
        "colab": {
          "base_uri": "https://localhost:8080/",
          "height": 206
        },
        "id": "oivJtedQVlZv",
        "outputId": "4eb7e260-780f-430a-bff3-0417bfadbd0b"
      },
      "execution_count": 6,
      "outputs": [
        {
          "output_type": "execute_result",
          "data": {
            "text/plain": [
              "   day  aircraft  helicopter  tank  APC  field artillery  MRL  military auto  \\\n",
              "0    2        10           7    80  516               49    4            100   \n",
              "1    3        27          26   146  706               49    4            130   \n",
              "2    4        27          26   150  706               50    4            130   \n",
              "3    5        29          29   150  816               74   21            291   \n",
              "4    6        29          29   198  846               77   24            305   \n",
              "\n",
              "   fuel tank  drone  naval ship  anti-aircraft warfare  \n",
              "0         60      0           2                      0  \n",
              "1         60      2           2                      0  \n",
              "2         60      2           2                      0  \n",
              "3         60      3           2                      5  \n",
              "4         60      3           2                      7  "
            ],
            "text/html": [
              "\n",
              "  <div id=\"df-b0a78b7d-00d6-43c6-91d0-6cc3a943ff5b\">\n",
              "    <div class=\"colab-df-container\">\n",
              "      <div>\n",
              "<style scoped>\n",
              "    .dataframe tbody tr th:only-of-type {\n",
              "        vertical-align: middle;\n",
              "    }\n",
              "\n",
              "    .dataframe tbody tr th {\n",
              "        vertical-align: top;\n",
              "    }\n",
              "\n",
              "    .dataframe thead th {\n",
              "        text-align: right;\n",
              "    }\n",
              "</style>\n",
              "<table border=\"1\" class=\"dataframe\">\n",
              "  <thead>\n",
              "    <tr style=\"text-align: right;\">\n",
              "      <th></th>\n",
              "      <th>day</th>\n",
              "      <th>aircraft</th>\n",
              "      <th>helicopter</th>\n",
              "      <th>tank</th>\n",
              "      <th>APC</th>\n",
              "      <th>field artillery</th>\n",
              "      <th>MRL</th>\n",
              "      <th>military auto</th>\n",
              "      <th>fuel tank</th>\n",
              "      <th>drone</th>\n",
              "      <th>naval ship</th>\n",
              "      <th>anti-aircraft warfare</th>\n",
              "    </tr>\n",
              "  </thead>\n",
              "  <tbody>\n",
              "    <tr>\n",
              "      <th>0</th>\n",
              "      <td>2</td>\n",
              "      <td>10</td>\n",
              "      <td>7</td>\n",
              "      <td>80</td>\n",
              "      <td>516</td>\n",
              "      <td>49</td>\n",
              "      <td>4</td>\n",
              "      <td>100</td>\n",
              "      <td>60</td>\n",
              "      <td>0</td>\n",
              "      <td>2</td>\n",
              "      <td>0</td>\n",
              "    </tr>\n",
              "    <tr>\n",
              "      <th>1</th>\n",
              "      <td>3</td>\n",
              "      <td>27</td>\n",
              "      <td>26</td>\n",
              "      <td>146</td>\n",
              "      <td>706</td>\n",
              "      <td>49</td>\n",
              "      <td>4</td>\n",
              "      <td>130</td>\n",
              "      <td>60</td>\n",
              "      <td>2</td>\n",
              "      <td>2</td>\n",
              "      <td>0</td>\n",
              "    </tr>\n",
              "    <tr>\n",
              "      <th>2</th>\n",
              "      <td>4</td>\n",
              "      <td>27</td>\n",
              "      <td>26</td>\n",
              "      <td>150</td>\n",
              "      <td>706</td>\n",
              "      <td>50</td>\n",
              "      <td>4</td>\n",
              "      <td>130</td>\n",
              "      <td>60</td>\n",
              "      <td>2</td>\n",
              "      <td>2</td>\n",
              "      <td>0</td>\n",
              "    </tr>\n",
              "    <tr>\n",
              "      <th>3</th>\n",
              "      <td>5</td>\n",
              "      <td>29</td>\n",
              "      <td>29</td>\n",
              "      <td>150</td>\n",
              "      <td>816</td>\n",
              "      <td>74</td>\n",
              "      <td>21</td>\n",
              "      <td>291</td>\n",
              "      <td>60</td>\n",
              "      <td>3</td>\n",
              "      <td>2</td>\n",
              "      <td>5</td>\n",
              "    </tr>\n",
              "    <tr>\n",
              "      <th>4</th>\n",
              "      <td>6</td>\n",
              "      <td>29</td>\n",
              "      <td>29</td>\n",
              "      <td>198</td>\n",
              "      <td>846</td>\n",
              "      <td>77</td>\n",
              "      <td>24</td>\n",
              "      <td>305</td>\n",
              "      <td>60</td>\n",
              "      <td>3</td>\n",
              "      <td>2</td>\n",
              "      <td>7</td>\n",
              "    </tr>\n",
              "  </tbody>\n",
              "</table>\n",
              "</div>\n",
              "      <button class=\"colab-df-convert\" onclick=\"convertToInteractive('df-b0a78b7d-00d6-43c6-91d0-6cc3a943ff5b')\"\n",
              "              title=\"Convert this dataframe to an interactive table.\"\n",
              "              style=\"display:none;\">\n",
              "        \n",
              "  <svg xmlns=\"http://www.w3.org/2000/svg\" height=\"24px\"viewBox=\"0 0 24 24\"\n",
              "       width=\"24px\">\n",
              "    <path d=\"M0 0h24v24H0V0z\" fill=\"none\"/>\n",
              "    <path d=\"M18.56 5.44l.94 2.06.94-2.06 2.06-.94-2.06-.94-.94-2.06-.94 2.06-2.06.94zm-11 1L8.5 8.5l.94-2.06 2.06-.94-2.06-.94L8.5 2.5l-.94 2.06-2.06.94zm10 10l.94 2.06.94-2.06 2.06-.94-2.06-.94-.94-2.06-.94 2.06-2.06.94z\"/><path d=\"M17.41 7.96l-1.37-1.37c-.4-.4-.92-.59-1.43-.59-.52 0-1.04.2-1.43.59L10.3 9.45l-7.72 7.72c-.78.78-.78 2.05 0 2.83L4 21.41c.39.39.9.59 1.41.59.51 0 1.02-.2 1.41-.59l7.78-7.78 2.81-2.81c.8-.78.8-2.07 0-2.86zM5.41 20L4 18.59l7.72-7.72 1.47 1.35L5.41 20z\"/>\n",
              "  </svg>\n",
              "      </button>\n",
              "      \n",
              "  <style>\n",
              "    .colab-df-container {\n",
              "      display:flex;\n",
              "      flex-wrap:wrap;\n",
              "      gap: 12px;\n",
              "    }\n",
              "\n",
              "    .colab-df-convert {\n",
              "      background-color: #E8F0FE;\n",
              "      border: none;\n",
              "      border-radius: 50%;\n",
              "      cursor: pointer;\n",
              "      display: none;\n",
              "      fill: #1967D2;\n",
              "      height: 32px;\n",
              "      padding: 0 0 0 0;\n",
              "      width: 32px;\n",
              "    }\n",
              "\n",
              "    .colab-df-convert:hover {\n",
              "      background-color: #E2EBFA;\n",
              "      box-shadow: 0px 1px 2px rgba(60, 64, 67, 0.3), 0px 1px 3px 1px rgba(60, 64, 67, 0.15);\n",
              "      fill: #174EA6;\n",
              "    }\n",
              "\n",
              "    [theme=dark] .colab-df-convert {\n",
              "      background-color: #3B4455;\n",
              "      fill: #D2E3FC;\n",
              "    }\n",
              "\n",
              "    [theme=dark] .colab-df-convert:hover {\n",
              "      background-color: #434B5C;\n",
              "      box-shadow: 0px 1px 3px 1px rgba(0, 0, 0, 0.15);\n",
              "      filter: drop-shadow(0px 1px 2px rgba(0, 0, 0, 0.3));\n",
              "      fill: #FFFFFF;\n",
              "    }\n",
              "  </style>\n",
              "\n",
              "      <script>\n",
              "        const buttonEl =\n",
              "          document.querySelector('#df-b0a78b7d-00d6-43c6-91d0-6cc3a943ff5b button.colab-df-convert');\n",
              "        buttonEl.style.display =\n",
              "          google.colab.kernel.accessAllowed ? 'block' : 'none';\n",
              "\n",
              "        async function convertToInteractive(key) {\n",
              "          const element = document.querySelector('#df-b0a78b7d-00d6-43c6-91d0-6cc3a943ff5b');\n",
              "          const dataTable =\n",
              "            await google.colab.kernel.invokeFunction('convertToInteractive',\n",
              "                                                     [key], {});\n",
              "          if (!dataTable) return;\n",
              "\n",
              "          const docLinkHtml = 'Like what you see? Visit the ' +\n",
              "            '<a target=\"_blank\" href=https://colab.research.google.com/notebooks/data_table.ipynb>data table notebook</a>'\n",
              "            + ' to learn more about interactive tables.';\n",
              "          element.innerHTML = '';\n",
              "          dataTable['output_type'] = 'display_data';\n",
              "          await google.colab.output.renderOutput(dataTable, element);\n",
              "          const docLink = document.createElement('div');\n",
              "          docLink.innerHTML = docLinkHtml;\n",
              "          element.appendChild(docLink);\n",
              "        }\n",
              "      </script>\n",
              "    </div>\n",
              "  </div>\n",
              "  "
            ]
          },
          "metadata": {},
          "execution_count": 6
        }
      ]
    },
    {
      "cell_type": "code",
      "source": [
        "x = df.drop(columns=\"day\",axis=1)\n",
        "y = df[\"day\"]"
      ],
      "metadata": {
        "id": "ap1xBEOcVmp0"
      },
      "execution_count": 7,
      "outputs": []
    },
    {
      "cell_type": "code",
      "source": [
        "print(x.shape,y.shape)"
      ],
      "metadata": {
        "colab": {
          "base_uri": "https://localhost:8080/"
        },
        "id": "-KbKJ8W3V6DQ",
        "outputId": "f3ad8bb5-7fed-43ba-8e1f-c5c50b791d2a"
      },
      "execution_count": 8,
      "outputs": [
        {
          "output_type": "stream",
          "name": "stdout",
          "text": [
            "(59, 11) (59,)\n"
          ]
        }
      ]
    },
    {
      "cell_type": "markdown",
      "source": [
        "splitting the data as train and test"
      ],
      "metadata": {
        "id": "aDbQmHd4mhY4"
      }
    },
    {
      "cell_type": "code",
      "source": [
        "x_train,x_test,y_train,y_test = train_test_split(x, y, test_size=0.15, random_state=2)"
      ],
      "metadata": {
        "id": "wmqiQLKgV9st"
      },
      "execution_count": 12,
      "outputs": []
    },
    {
      "cell_type": "markdown",
      "source": [
        "pre-processing the features for better prediction system"
      ],
      "metadata": {
        "id": "H9T5zNKgmmqj"
      }
    },
    {
      "cell_type": "code",
      "source": [
        "scaler = StandardScaler()"
      ],
      "metadata": {
        "id": "AdEU_-M9WfAM"
      },
      "execution_count": 13,
      "outputs": []
    },
    {
      "cell_type": "code",
      "source": [
        "x_train = scaler.fit_transform(x_train)\n",
        "x_test = scaler.transform(x_test)"
      ],
      "metadata": {
        "id": "6mb6rRR9WkNz"
      },
      "execution_count": 14,
      "outputs": []
    },
    {
      "cell_type": "markdown",
      "source": [
        "creating the models"
      ],
      "metadata": {
        "id": "MyIafMO3mutE"
      }
    },
    {
      "cell_type": "code",
      "source": [
        "model_xgb = XGBRegressor()\n",
        "model_linear_reg = LinearRegression()"
      ],
      "metadata": {
        "id": "2rrO0cx0WtvL"
      },
      "execution_count": 15,
      "outputs": []
    },
    {
      "cell_type": "code",
      "source": [
        "model_xgb.fit(x_train,y_train)\n",
        "model_linear_reg.fit(x_train,y_train)"
      ],
      "metadata": {
        "colab": {
          "base_uri": "https://localhost:8080/"
        },
        "id": "OYSOw3e9XIb8",
        "outputId": "394a85fd-db28-489c-eafb-de60080c5fda"
      },
      "execution_count": 16,
      "outputs": [
        {
          "output_type": "stream",
          "name": "stdout",
          "text": [
            "[10:55:50] WARNING: /workspace/src/objective/regression_obj.cu:152: reg:linear is now deprecated in favor of reg:squarederror.\n"
          ]
        },
        {
          "output_type": "execute_result",
          "data": {
            "text/plain": [
              "LinearRegression()"
            ]
          },
          "metadata": {},
          "execution_count": 16
        }
      ]
    },
    {
      "cell_type": "code",
      "source": [
        "y_pred_xgb = model_xgb.predict(x_test)\n",
        "y_pred_linear = model_linear_reg.predict(x_test)"
      ],
      "metadata": {
        "id": "YY3pwSoHXQSV"
      },
      "execution_count": 17,
      "outputs": []
    },
    {
      "cell_type": "markdown",
      "source": [
        "checking the r2 score and mean absolute error"
      ],
      "metadata": {
        "id": "C37Wa65YmAZs"
      }
    },
    {
      "cell_type": "code",
      "source": [
        "r2_score(y_test,y_pred_xgb)"
      ],
      "metadata": {
        "colab": {
          "base_uri": "https://localhost:8080/"
        },
        "id": "DeI-l8eHXfob",
        "outputId": "edf86286-8f21-4bdc-a4c1-1b9b747e601c"
      },
      "execution_count": 19,
      "outputs": [
        {
          "output_type": "execute_result",
          "data": {
            "text/plain": [
              "0.993334885629921"
            ]
          },
          "metadata": {},
          "execution_count": 19
        }
      ]
    },
    {
      "cell_type": "code",
      "source": [
        "r2_score(y_test,y_pred_linear)"
      ],
      "metadata": {
        "colab": {
          "base_uri": "https://localhost:8080/"
        },
        "id": "SDiNmnRNXpCP",
        "outputId": "c49d68b7-00e8-4135-c34d-c63fcfbe0632"
      },
      "execution_count": 20,
      "outputs": [
        {
          "output_type": "execute_result",
          "data": {
            "text/plain": [
              "0.9978552082481206"
            ]
          },
          "metadata": {},
          "execution_count": 20
        }
      ]
    },
    {
      "cell_type": "code",
      "source": [
        "mean_absolute_error(y_test,y_pred_linear)"
      ],
      "metadata": {
        "colab": {
          "base_uri": "https://localhost:8080/"
        },
        "id": "Xpyq6jRGX3aT",
        "outputId": "acb9ac8d-5a0f-4d61-c758-4d4d23cf2fbc"
      },
      "execution_count": 21,
      "outputs": [
        {
          "output_type": "execute_result",
          "data": {
            "text/plain": [
              "0.4862360224023175"
            ]
          },
          "metadata": {},
          "execution_count": 21
        }
      ]
    },
    {
      "cell_type": "code",
      "source": [
        "mean_absolute_error(y_test,y_pred_xgb)"
      ],
      "metadata": {
        "colab": {
          "base_uri": "https://localhost:8080/"
        },
        "id": "w_-7AOZZX7fD",
        "outputId": "3c74085a-41c4-446e-aa98-bcc84f46bfae"
      },
      "execution_count": 22,
      "outputs": [
        {
          "output_type": "execute_result",
          "data": {
            "text/plain": [
              "1.1874068048265245"
            ]
          },
          "metadata": {},
          "execution_count": 22
        }
      ]
    },
    {
      "cell_type": "code",
      "source": [
        "x.columns"
      ],
      "metadata": {
        "colab": {
          "base_uri": "https://localhost:8080/"
        },
        "id": "6ZEkJWFqhOG7",
        "outputId": "7e3420e0-4475-4fc5-a4a3-1490a1d5581e"
      },
      "execution_count": 29,
      "outputs": [
        {
          "output_type": "execute_result",
          "data": {
            "text/plain": [
              "Index(['aircraft', 'helicopter', 'tank', 'APC', 'field artillery', 'MRL',\n",
              "       'military auto', 'fuel tank', 'drone', 'naval ship',\n",
              "       'anti-aircraft warfare'],\n",
              "      dtype='object')"
            ]
          },
          "metadata": {},
          "execution_count": 29
        }
      ]
    },
    {
      "cell_type": "code",
      "source": [
        "# Prediction system\n",
        "input = (279,254,1073,3238,508,247,2557,96,291,8,72)\n",
        "print(\"LOSSED IN RUSSIAN ARMY;\\n\",input[0],\"aircraft\\n\",input[1],\"helicopter\\n\",input[2],\"tank\\n\",input[3],\"APC\\n\",input[4],\"field artillery\\n\",input[5],\"MRL\\n\",input[6],\"military auto\\n\",input[7],\"fuel tank\\n\",input[8],\"drone\\n\",input[9],\"naval ship\\n\",input[10],\"anti-aircraft warfare\")\n",
        "asarray = np.asarray(input)\n",
        "asarray = asarray.reshape(1,-1)\n",
        "asarray = scaler.transform(asarray)\n",
        "prediction2 = model_linear_reg.predict(asarray)\n",
        "prediction2 = int(prediction2)\n",
        "\n",
        "print(\"WAR DAY (Linear Regression)= \",prediction2)\n",
        "\n"
      ],
      "metadata": {
        "colab": {
          "base_uri": "https://localhost:8080/"
        },
        "id": "mvRYR66SX_mg",
        "outputId": "ee3dd5e4-e053-4c0a-aadf-d6e32197c068"
      },
      "execution_count": 48,
      "outputs": [
        {
          "output_type": "stream",
          "name": "stdout",
          "text": [
            "LOSSED IN RUSSIAN ARMY;\n",
            " 279 aircraft\n",
            " 254 helicopter\n",
            " 1073 tank\n",
            " 3238 APC\n",
            " 508 field artillery\n",
            " 247 MRL\n",
            " 2557 military auto\n",
            " 96 fuel tank\n",
            " 291 drone\n",
            " 8 naval ship\n",
            " 72 anti-aircraft warfare\n",
            "WAR DAY (Linear Regression)=  88\n"
          ]
        },
        {
          "output_type": "stream",
          "name": "stderr",
          "text": [
            "/usr/local/lib/python3.7/dist-packages/sklearn/base.py:451: UserWarning: X does not have valid feature names, but StandardScaler was fitted with feature names\n",
            "  \"X does not have valid feature names, but\"\n"
          ]
        }
      ]
    },
    {
      "cell_type": "code",
      "source": [
        ""
      ],
      "metadata": {
        "id": "0-TyQ6r0fqCH"
      },
      "execution_count": null,
      "outputs": []
    }
  ]
}